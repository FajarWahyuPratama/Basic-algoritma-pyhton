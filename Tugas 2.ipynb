{
 "cells": [
  {
   "cell_type": "code",
   "execution_count": 1,
   "metadata": {},
   "outputs": [
    {
     "ename": "NameError",
     "evalue": "name 'Print' is not defined",
     "output_type": "error",
     "traceback": [
      "\u001b[1;31m---------------------------------------------------------------------------\u001b[0m",
      "\u001b[1;31mNameError\u001b[0m                                 Traceback (most recent call last)",
      "\u001b[1;32m<ipython-input-1-897c368dc651>\u001b[0m in \u001b[0;36m<module>\u001b[1;34m\u001b[0m\n\u001b[0;32m      1\u001b[0m \u001b[1;31m#Nama : fajar wahyu pratama\u001b[0m\u001b[1;33m\u001b[0m\u001b[1;33m\u001b[0m\u001b[1;33m\u001b[0m\u001b[0m\n\u001b[1;32m----> 2\u001b[1;33m \u001b[0mPrint\u001b[0m \u001b[1;33m(\u001b[0m\u001b[1;34m\"saya suka programming\"\u001b[0m\u001b[1;33m)\u001b[0m\u001b[1;33m\u001b[0m\u001b[1;33m\u001b[0m\u001b[0m\n\u001b[0m\u001b[0;32m      3\u001b[0m \u001b[0mPrint\u001b[0m \u001b[1;33m(\u001b[0m\u001b[1;34m\"saya suka programming\"\u001b[0m\u001b[1;33m)\u001b[0m\u001b[1;33m\u001b[0m\u001b[1;33m\u001b[0m\u001b[0m\n\u001b[0;32m      4\u001b[0m \u001b[0mPrint\u001b[0m \u001b[1;33m(\u001b[0m\u001b[1;34m\"saya suka programming\"\u001b[0m\u001b[1;33m)\u001b[0m\u001b[1;33m\u001b[0m\u001b[1;33m\u001b[0m\u001b[0m\n\u001b[0;32m      5\u001b[0m \u001b[0mPrint\u001b[0m \u001b[1;33m(\u001b[0m\u001b[1;34m\"saya suka programming\"\u001b[0m\u001b[1;33m)\u001b[0m\u001b[1;33m\u001b[0m\u001b[1;33m\u001b[0m\u001b[0m\n",
      "\u001b[1;31mNameError\u001b[0m: name 'Print' is not defined"
     ]
    }
   ],
   "source": [
    "#Nama : fajar wahyu pratama\n",
    "Print (\"saya suka programming\")\n",
    "Print (\"saya suka programming\")\n",
    "Print (\"saya suka programming\")\n",
    "Print (\"saya suka programming\")\n",
    "Print (\"saya suka programming\")"
   ]
  },
  {
   "cell_type": "code",
   "execution_count": 2,
   "metadata": {},
   "outputs": [
    {
     "name": "stdout",
     "output_type": "stream",
     "text": [
      "saya suka programming\n",
      "saya suka programming\n",
      "saya suka programming\n",
      "saya suka programming\n",
      "saya suka programming\n"
     ]
    }
   ],
   "source": [
    "#nama : fajar wahyu pratama\n",
    "print (\"saya suka programming\")\n",
    "print (\"saya suka programming\")\n",
    "print (\"saya suka programming\")\n",
    "print (\"saya suka programming\")\n",
    "print (\"saya suka programming\")"
   ]
  },
  {
   "cell_type": "code",
   "execution_count": 3,
   "metadata": {},
   "outputs": [
    {
     "name": "stdout",
     "output_type": "stream",
     "text": [
      "615.44\n"
     ]
    }
   ],
   "source": [
    "#nama : fajar wahyu pratama\n",
    "r=14\n",
    "phi=3.14\n",
    "luas=phi*r*r\n",
    "print (luas)"
   ]
  },
  {
   "cell_type": "code",
   "execution_count": 4,
   "metadata": {},
   "outputs": [
    {
     "name": "stdout",
     "output_type": "stream",
     "text": [
      "saya fajar wahyu pratama, saya membuat program minghitung balok : 350\n"
     ]
    }
   ],
   "source": [
    "#nama : fajar wahyu pratama\n",
    "#menghitung volume balok\n",
    "p=5\n",
    "l=7\n",
    "t=10\n",
    "v=p*l*t\n",
    "print (\"saya fajar wahyu pratama, saya membuat program minghitung balok :\",v)"
   ]
  },
  {
   "cell_type": "code",
   "execution_count": 6,
   "metadata": {},
   "outputs": [
    {
     "name": "stdout",
     "output_type": "stream",
     "text": [
      "saya fajar wahyu pratama, saya membuat program menghitung balok \n",
      "panjang : 5\n",
      "luas : 7\n",
      "tinggi : 10\n",
      "sehingga volume balok : 350\n"
     ]
    }
   ],
   "source": [
    "#nama : fajar wahyu pratama\n",
    "#menghitung volume balok\n",
    "p=5\n",
    "l=7\n",
    "t=10\n",
    "v=p*l*t\n",
    "\n",
    "print (\"saya fajar wahyu pratama, saya membuat program menghitung balok \")\n",
    "print (\"panjang :\", p)\n",
    "print (\"luas :\",l)\n",
    "print (\"tinggi :\", t)\n",
    "print (\"sehingga volume balok :\",v)"
   ]
  },
  {
   "cell_type": "code",
   "execution_count": null,
   "metadata": {},
   "outputs": [],
   "source": []
  }
 ],
 "metadata": {
  "kernelspec": {
   "display_name": "Python 3",
   "language": "python",
   "name": "python3"
  },
  "language_info": {
   "codemirror_mode": {
    "name": "ipython",
    "version": 3
   },
   "file_extension": ".py",
   "mimetype": "text/x-python",
   "name": "python",
   "nbconvert_exporter": "python",
   "pygments_lexer": "ipython3",
   "version": "3.8.3"
  }
 },
 "nbformat": 4,
 "nbformat_minor": 4
}
