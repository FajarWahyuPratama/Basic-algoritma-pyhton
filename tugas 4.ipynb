{
 "cells": [
  {
   "cell_type": "code",
   "execution_count": 2,
   "metadata": {},
   "outputs": [
    {
     "name": "stdout",
     "output_type": "stream",
     "text": [
      "hasil dari 17 + 2 adalah 19\n",
      "hasil dari 17 + 2 adalah 15\n",
      "hasil dari 17 * 2 adalah 34\n",
      "hasil dari 17 / 2 adalah 8.5\n",
      "hasil dari 17 sisa bagi 2 adalah 1\n",
      "hasil dari 17 pemangkatan 2 adalah 289\n"
     ]
    }
   ],
   "source": [
    "#operator aritmatika \n",
    "a=17\n",
    "b=2\n",
    "#operator penjumlahan\n",
    "c=a+b\n",
    "print (\"hasil dari\",a,\"+\",b,\"adalah\",c)\n",
    "#operator pengurangan\n",
    "c=a-b\n",
    "print (\"hasil dari\",a,\"+\",b,\"adalah\",c)\n",
    "#operator perkalian\n",
    "c=a*b\n",
    "print (\"hasil dari\",a,\"*\",b,\"adalah\",c)\n",
    "#operator pembagian\n",
    "c=a/b\n",
    "print (\"hasil dari\",a,\"/\",b,\"adalah\",c)\n",
    "#operator sisa bagi\n",
    "c=a%b\n",
    "print (\"hasil dari\",a,\"sisa bagi\",b,\"adalah\",c)\n",
    "#operator pemangkatan\n",
    "c=a**b\n",
    "print (\"hasil dari\",a,\"pemangkatan\",b,\"adalah\",c)"
   ]
  },
  {
   "cell_type": "code",
   "execution_count": 3,
   "metadata": {},
   "outputs": [
    {
     "name": "stdout",
     "output_type": "stream",
     "text": [
      "17\n",
      "19\n",
      "17\n",
      "34\n",
      "17.0\n",
      "1.0\n",
      "1.0\n"
     ]
    }
   ],
   "source": [
    "#operator penugasan\n",
    "\n",
    "#operator pengisian\n",
    "a=17 #penugasan nilai\n",
    "print (a)\n",
    "#operator penjumlahan\n",
    "a+=2\n",
    "print (a)\n",
    "#operator pengurangan\n",
    "a-=2\n",
    "print (a)\n",
    "#operator perkalian\n",
    "a*=2\n",
    "print (a)\n",
    "#operator pembagian\n",
    "a/=2\n",
    "print (a)\n",
    "#operator sisa bagi\n",
    "a%=2\n",
    "print (a)\n",
    "#operasi pemangkatan\n",
    "a**=2\n",
    "print (a)"
   ]
  },
  {
   "cell_type": "code",
   "execution_count": 4,
   "metadata": {},
   "outputs": [
    {
     "name": "stdout",
     "output_type": "stream",
     "text": [
      "apakah benar 17 lebih besar dari 10 : True\n",
      "apakah benar 17 lebih kecil dari 10 : False\n",
      "apakah benar 10 sama dengan 10 : 10\n",
      "apakah benar 10 tidak sama dengan 10 : False\n",
      "apakah benar 10 lebih besar sama dengan 10 : True\n",
      "apakah benar 10 lebih kecil sama dengan 10 : True\n"
     ]
    }
   ],
   "source": [
    "#operator pembandingan\n",
    "a=17\n",
    "b=10\n",
    "#apakah a lebih besar dari b\n",
    "c=a>b\n",
    "print (\"apakah benar\",a,\"lebih besar dari\",b,\":\",c)\n",
    "#apakah a lebih kecil dari b\n",
    "c=a<b\n",
    "print (\"apakah benar\",a,\"lebih kecil dari\",b,\":\",c)\n",
    "#apakah a sama dengan b \n",
    "c=a=b\n",
    "print (\"apakah benar\",a,\"sama dengan\",b,\":\",c)\n",
    "#operator tidak sama dengan\n",
    "c=a!=b\n",
    "print (\"apakah benar\",a,\"tidak sama dengan\",b,\":\",c)\n",
    "#operator lebih besar sama dengan\n",
    "c=a>=b\n",
    "print (\"apakah benar\",a,\"lebih besar sama dengan\",b,\":\",c)\n",
    "#operator lebih kecil sama dengan\n",
    "c=a<=b\n",
    "print (\"apakah benar\",a,\"lebih kecil sama dengan\",b,\":\",c)"
   ]
  },
  {
   "cell_type": "code",
   "execution_count": 5,
   "metadata": {},
   "outputs": [
    {
     "name": "stdout",
     "output_type": "stream",
     "text": [
      "False\n",
      "True\n",
      "False\n"
     ]
    }
   ],
   "source": [
    "#operator logika\n",
    "a=True\n",
    "b=False\n",
    "#logika and\n",
    "c= a and b\n",
    "print (c)\n",
    "#logika OR\n",
    "c= a or b\n",
    "print (c)\n",
    "#negasi/kebalikan\n",
    "c= not a\n",
    "print (c)"
   ]
  },
  {
   "cell_type": "code",
   "execution_count": 6,
   "metadata": {},
   "outputs": [
    {
     "name": "stdout",
     "output_type": "stream",
     "text": [
      "masukan nama bayi : El barack\n",
      "masukan berat badan bayi : 3.4\n",
      "nama bayi adalah El barack\n",
      "berat bayi dalam kg adalah 3.4 kg\n",
      "berat bayi dalam ons adalah 34.0 ons\n",
      "bearat bayi 1 bulan ke depan harus ditambahkan 30 ons sehingga menjadi 64.0 ons\n"
     ]
    }
   ],
   "source": [
    "name=str(input(\"masukan nama bayi : \"))\n",
    "weight_kg=float(input(\"masukan berat badan bayi : \"))\n",
    "weight_ons=weight_kg*10 #karena 1 kg = 10 ons\n",
    "weight=weight_ons+30\n",
    "\n",
    "print (\"nama bayi adalah\", str(name))\n",
    "print (\"berat bayi dalam kg adalah\", float(weight_kg), \"kg\")\n",
    "print (\"berat bayi dalam ons adalah\", float(weight_ons), \"ons\")\n",
    "print (\"bearat bayi 1 bulan ke depan harus ditambahkan 30 ons sehingga menjadi\", float(weight), \"ons\")"
   ]
  },
  {
   "cell_type": "code",
   "execution_count": null,
   "metadata": {},
   "outputs": [],
   "source": []
  }
 ],
 "metadata": {
  "kernelspec": {
   "display_name": "Python 3",
   "language": "python",
   "name": "python3"
  },
  "language_info": {
   "codemirror_mode": {
    "name": "ipython",
    "version": 3
   },
   "file_extension": ".py",
   "mimetype": "text/x-python",
   "name": "python",
   "nbconvert_exporter": "python",
   "pygments_lexer": "ipython3",
   "version": "3.8.3"
  }
 },
 "nbformat": 4,
 "nbformat_minor": 4
}
