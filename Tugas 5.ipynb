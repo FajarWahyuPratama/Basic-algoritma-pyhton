{
 "cells": [
  {
   "cell_type": "code",
   "execution_count": 1,
   "metadata": {},
   "outputs": [
    {
     "name": "stdout",
     "output_type": "stream",
     "text": [
      "i like programming\n",
      "because i proud to make something new\n"
     ]
    }
   ],
   "source": [
    "#membuat fungsi\n",
    "def biodata():\n",
    "    print (\"i like programming\")\n",
    "def teks ():\n",
    "    print (\"because i proud to make something new\")\n",
    "    \n",
    "#pemanggilan fungsi\n",
    "biodata()\n",
    "teks()"
   ]
  },
  {
   "cell_type": "code",
   "execution_count": 2,
   "metadata": {},
   "outputs": [
    {
     "name": "stdout",
     "output_type": "stream",
     "text": [
      "perkenalkan diri anda : fajar wahyu pratama\n",
      "fajar wahyu pratama\n",
      "luas persegi :  4\n"
     ]
    }
   ],
   "source": [
    "#membuat fungsi\n",
    "def biodata():\n",
    "    name = str(input(\"perkenalkan diri anda : \"))\n",
    "    print (name)\n",
    "def luas_persegi (panjang, lebar):\n",
    "    luas = panjang*lebar\n",
    "    print (\"luas persegi : \", luas);\n",
    "    \n",
    "#pemanggilan fungsi\n",
    "biodata()\n",
    "luas_persegi(2,2)"
   ]
  },
  {
   "cell_type": "code",
   "execution_count": 3,
   "metadata": {},
   "outputs": [
    {
     "name": "stdout",
     "output_type": "stream",
     "text": [
      "volume balok : 24\n",
      "luas persegi panjang adalah : 42\n"
     ]
    }
   ],
   "source": [
    "def luas_persegi (panjang, lebar):\n",
    "    luas = panjang * lebar \n",
    "    return luas\n",
    "\n",
    "def volume_balok (panjang, lebar, tinggi):\n",
    "    volume = panjang * lebar * tinggi\n",
    "    return volume\n",
    "\n",
    "print (\"volume balok :\", volume_balok(2,3,4))\n",
    "print (\"luas persegi panjang adalah :\", luas_persegi(6, 7))"
   ]
  },
  {
   "cell_type": "code",
   "execution_count": 10,
   "metadata": {},
   "outputs": [
    {
     "name": "stdout",
     "output_type": "stream",
     "text": [
      "masukan angka pertama :23\n",
      "masukan angka kedua :23\n",
      "apakah 23 bernilai sama dengan 23 ? True\n",
      "apakah 23 lebih besar dari 23 ? False\n"
     ]
    }
   ],
   "source": [
    "angka_pertama = int(input(\"masukan angka pertama :\"))\n",
    "angka_kedua = int(input(\"masukan angka kedua :\"))\n",
    "\n",
    "def sama_dengan ():\n",
    "    masukan = angka_pertama == angka_kedua\n",
    "    print (\"apakah\", angka_pertama ,\"bernilai sama dengan\", angka_kedua, \"?\", masukan)\n",
    "    \n",
    "def lebih_besar ():\n",
    "    masukan = angka_pertama > angka_kedua\n",
    "    print (\"apakah\", angka_pertama, \"lebih besar dari\", angka_kedua, \"?\", masukan)\n",
    "    \n",
    "sama_dengan()\n",
    "lebih_besar()"
   ]
  },
  {
   "cell_type": "code",
   "execution_count": null,
   "metadata": {},
   "outputs": [],
   "source": []
  }
 ],
 "metadata": {
  "kernelspec": {
   "display_name": "Python 3",
   "language": "python",
   "name": "python3"
  },
  "language_info": {
   "codemirror_mode": {
    "name": "ipython",
    "version": 3
   },
   "file_extension": ".py",
   "mimetype": "text/x-python",
   "name": "python",
   "nbconvert_exporter": "python",
   "pygments_lexer": "ipython3",
   "version": "3.8.3"
  }
 },
 "nbformat": 4,
 "nbformat_minor": 4
}
