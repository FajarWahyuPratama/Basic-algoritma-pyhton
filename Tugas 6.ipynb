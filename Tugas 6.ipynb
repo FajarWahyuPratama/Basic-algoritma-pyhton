{
 "cells": [
  {
   "cell_type": "code",
   "execution_count": 3,
   "metadata": {},
   "outputs": [
    {
     "name": "stdout",
     "output_type": "stream",
     "text": [
      "masukan nilai50\n",
      "remidi\n"
     ]
    }
   ],
   "source": [
    "nilai = int(input(\"masukan nilai\"))\n",
    "if nilai < 70 :\n",
    "    print (\"remidi\")"
   ]
  },
  {
   "cell_type": "code",
   "execution_count": 4,
   "metadata": {},
   "outputs": [
    {
     "name": "stdout",
     "output_type": "stream",
     "text": [
      "masukan jari jari7\n",
      "luas lingkaran adalah 153.86\n",
      "lingkaran ini kecil\n"
     ]
    }
   ],
   "source": [
    "r=int(input(\"masukan jari jari\"))\n",
    "phi=3.14\n",
    "luas=phi*r*r\n",
    "print (\"luas lingkaran adalah\", luas)\n",
    "if luas > 314:\n",
    "    print (\"lingkaran ini besar\")\n",
    "else :\n",
    "    print (\"lingkaran ini kecil\")"
   ]
  },
  {
   "cell_type": "code",
   "execution_count": 6,
   "metadata": {},
   "outputs": [
    {
     "name": "stdout",
     "output_type": "stream",
     "text": [
      "Masukan Pilihan Program Anda : 1\n",
      "masukan panjang14\n",
      "masukan lebar13\n",
      "masukan tinggi5\n",
      "volume balok adalah 910\n"
     ]
    }
   ],
   "source": [
    "def volume_balok ():\n",
    "    p = int(input(\"masukan panjang\"))\n",
    "    l = int(input(\"masukan lebar\"))\n",
    "    t = int(input(\"masukan tinggi\"))\n",
    "    volume = p*l*t\n",
    "    print (\"volume balok adalah\", volume)\n",
    "    \n",
    "def volume_kubus ():\n",
    "    s = int(input(\"masukan sisi kubus\"))\n",
    "    volume = s*s*s\n",
    "    print (\"volume kubus adalah\", volume)    \n",
    "\n",
    "masukan = int(input(\"Masukan Pilihan Program Anda : \"))\n",
    "\n",
    "if masukan == 1:\n",
    "    volume_balok()\n",
    "\n",
    "elif masukan == 2:\n",
    "    volume_kubus()\n",
    "    \n",
    "else:\n",
    "    print (\"Program tidak tersedia\")"
   ]
  },
  {
   "cell_type": "code",
   "execution_count": null,
   "metadata": {},
   "outputs": [],
   "source": []
  }
 ],
 "metadata": {
  "kernelspec": {
   "display_name": "Python 3",
   "language": "python",
   "name": "python3"
  },
  "language_info": {
   "codemirror_mode": {
    "name": "ipython",
    "version": 3
   },
   "file_extension": ".py",
   "mimetype": "text/x-python",
   "name": "python",
   "nbconvert_exporter": "python",
   "pygments_lexer": "ipython3",
   "version": "3.8.3"
  }
 },
 "nbformat": 4,
 "nbformat_minor": 4
}
